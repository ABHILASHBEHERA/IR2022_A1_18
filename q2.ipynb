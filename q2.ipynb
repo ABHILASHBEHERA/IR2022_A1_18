{
  "nbformat": 4,
  "nbformat_minor": 0,
  "metadata": {
    "colab": {
      "name": "q2.ipynb",
      "provenance": [],
      "collapsed_sections": []
    },
    "kernelspec": {
      "name": "python3",
      "display_name": "Python 3"
    },
    "language_info": {
      "name": "python"
    }
  },
  "cells": [
    {
      "cell_type": "code",
      "execution_count": 1,
      "metadata": {
        "colab": {
          "base_uri": "https://localhost:8080/"
        },
        "id": "Ddy4PmnSn9tD",
        "outputId": "7e64b795-1eaa-40c4-eecc-443511cbf9b4"
      },
      "outputs": [
        {
          "output_type": "stream",
          "name": "stdout",
          "text": [
            "Mounted at /content/drive\n"
          ]
        }
      ],
      "source": [
        "## Mounting Google Drive\n",
        "\n",
        "from google.colab import drive\n",
        "drive.mount('/content/drive')"
      ]
    },
    {
      "cell_type": "code",
      "source": [
        "### Importing Libraries\n",
        "\n",
        "import glob\n",
        "import re\n",
        "import os\n",
        "import nltk\n",
        "import copy\n",
        "from nltk.corpus import stopwords\n",
        "from nltk.stem import WordNetLemmatizer \n",
        "nltk.download('stopwords')\n",
        "nltk.download('punkt')\n",
        "nltk.download('wordnet')"
      ],
      "metadata": {
        "colab": {
          "base_uri": "https://localhost:8080/"
        },
        "id": "-AjxPj0QydqK",
        "outputId": "18647675-7ee8-4c48-c727-717ceaa1f948"
      },
      "execution_count": 2,
      "outputs": [
        {
          "output_type": "stream",
          "name": "stdout",
          "text": [
            "[nltk_data] Downloading package stopwords to /root/nltk_data...\n",
            "[nltk_data]   Unzipping corpora/stopwords.zip.\n",
            "[nltk_data] Downloading package punkt to /root/nltk_data...\n",
            "[nltk_data]   Unzipping tokenizers/punkt.zip.\n",
            "[nltk_data] Downloading package wordnet to /root/nltk_data...\n",
            "[nltk_data]   Unzipping corpora/wordnet.zip.\n"
          ]
        },
        {
          "output_type": "execute_result",
          "data": {
            "text/plain": [
              "True"
            ]
          },
          "metadata": {},
          "execution_count": 2
        }
      ]
    },
    {
      "cell_type": "code",
      "execution_count": 3,
      "metadata": {
        "id": "jak-6IjHRL1i"
      },
      "outputs": [],
      "source": [
        "### Data Preprocessing\n",
        "\n",
        "def preprocess(text):\n",
        "  \n",
        "  # converting into lower case\n",
        "  text = text.lower()\n",
        " \n",
        "  #removing punctuations\n",
        "  text = re.sub(r'[^\\w\\s]', ' ', text)\n",
        "  #tokenizing\n",
        "  text_tokens = nltk.word_tokenize(text)\n",
        "  new_tokens = []\n",
        "  \n",
        "  #removing stopwords\n",
        "  for token in text_tokens:\n",
        "        if token not in stps:\n",
        "            new_tokens.append(token)\n",
        "\n",
        "  return new_tokens\n"
      ]
    },
    {
      "cell_type": "code",
      "source": [
        "file_loc = '/content/drive/MyDrive/Information Retrieval/A1/data/*'"
      ],
      "metadata": {
        "id": "_RDwBUKLyiUU"
      },
      "execution_count": 4,
      "outputs": []
    },
    {
      "cell_type": "code",
      "source": [
        "stps = stopwords.words('english')"
      ],
      "metadata": {
        "id": "F4vII8YQ6vK7"
      },
      "execution_count": 5,
      "outputs": []
    },
    {
      "cell_type": "code",
      "source": [
        "# Building a file list \n",
        "\n",
        "file_list = []\n",
        "folder = sorted(glob.glob(file_loc))\n",
        "for file in folder:\n",
        "  file_list.append(file)\n"
      ],
      "metadata": {
        "id": "OunXWZfC8w1Y"
      },
      "execution_count": 6,
      "outputs": []
    },
    {
      "cell_type": "code",
      "source": [
        "### Implemkemntation of positional Index data structure\n",
        "\n",
        "# pos_ind = { word1:[no. of docx, {doc1:[pos1,pos2]}], word2:[no. of docx, {doc1:[pos1,pos2]}] }\n",
        "pos_ind = {}\n",
        "for doc in range(len(file_list)):\n",
        "  text = open( file_list[doc], \"r\", encoding='latin-1')\n",
        "  text = text.read()\n",
        "  word_list = preprocess(text)\n",
        "  \n",
        "  for pos,word in enumerate(word_list):\n",
        "\n",
        "    if word in pos_ind:\n",
        "      pos_ind[word][0] += 1\n",
        "      if doc in pos_ind[word][1]:\n",
        "        pos_ind[word][1][doc].append(pos)\n",
        "      else:\n",
        "        pos_ind[word][1][doc] = [pos]\n",
        "    else:\n",
        "      pos_ind[word] = [1,{doc:[pos]}]\n",
        "\n",
        "\n",
        "\n",
        "\n"
      ],
      "metadata": {
        "id": "wyeBbb4HUzqj"
      },
      "execution_count": 7,
      "outputs": []
    },
    {
      "cell_type": "code",
      "source": [
        "### Executing the given Query\n",
        "\n",
        "def runQuery(qry):\n",
        "\n",
        "  qryArr = preprocess(qry)\n",
        "\n",
        "  res = copy.deepcopy(pos_ind[qryArr[0]][1])\n",
        "\n",
        "  for i in range(1,len(qryArr)):\n",
        "\n",
        "    for key in list(res.keys()):\n",
        "      val = res[key]\n",
        "      # print(\"key:\",key)\n",
        "      # print(\"val:\",val)\n",
        "      if key not in  pos_ind[qryArr[i]][1]:\n",
        "        res.pop(key)\n",
        "        continue\n",
        "      temp_lst = copy.deepcopy(val)\n",
        "      for posn in temp_lst:\n",
        "        # print(\"p + i:\",(posn+i))\n",
        "        # print(\"pos_ind[qryArr[i]][1][key]:\",pos_ind[qryArr[i]][1][key])\n",
        "        if (posn + i) not in pos_ind[qryArr[i]][1][key]:\n",
        "          # print(\"res[key]:\",res[key])\n",
        "          res[key].remove(posn)\n",
        "          # print(\"res[key]:\",res[key])\n",
        "      \n",
        "      if(len(res[key]) == 0):\n",
        "        res.pop(key)\n",
        "  \n",
        "  return res\n",
        "\n"
      ],
      "metadata": {
        "id": "bJJuau37nNbG"
      },
      "execution_count": 8,
      "outputs": []
    },
    {
      "cell_type": "code",
      "source": [
        "### Query Input and display of results.\n",
        "\n",
        "\n",
        "query = input(\"Enter the search query: \")\n",
        "output = runQuery(query)\n",
        "print(\"Number of documents retrieved: \",len(output.keys()))\n",
        "print(\"The documents are as follows: \")\n",
        "for i in list(output.keys()):\n",
        "  print(file_list[i])"
      ],
      "metadata": {
        "colab": {
          "base_uri": "https://localhost:8080/"
        },
        "id": "IrwcpJ7PgBWK",
        "outputId": "5b9fa3af-dc7e-4eb4-d695-4a29ce2c5b70"
      },
      "execution_count": 9,
      "outputs": [
        {
          "output_type": "stream",
          "name": "stdout",
          "text": [
            "Enter the search query: fuck\n",
            "Number of documents retrieved:  96\n",
            "The documents are as follows: \n",
            "/content/drive/MyDrive/Information Retrieval/A1/data/aids.txt\n",
            "/content/drive/MyDrive/Information Retrieval/A1/data/annoy.fascist\n",
            "/content/drive/MyDrive/Information Retrieval/A1/data/basehead.txt\n",
            "/content/drive/MyDrive/Information Retrieval/A1/data/beer-g\n",
            "/content/drive/MyDrive/Information Retrieval/A1/data/beergame.hum\n",
            "/content/drive/MyDrive/Information Retrieval/A1/data/beergame.txt\n",
            "/content/drive/MyDrive/Information Retrieval/A1/data/bw-phwan.hat\n",
            "/content/drive/MyDrive/Information Retrieval/A1/data/bw-summe.hat\n",
            "/content/drive/MyDrive/Information Retrieval/A1/data/c0dez.txt\n",
            "/content/drive/MyDrive/Information Retrieval/A1/data/cabbage.txt\n",
            "/content/drive/MyDrive/Information Retrieval/A1/data/chickenheadbbs.txt\n",
            "/content/drive/MyDrive/Information Retrieval/A1/data/chinesec.hum\n",
            "/content/drive/MyDrive/Information Retrieval/A1/data/coffee.txt\n",
            "/content/drive/MyDrive/Information Retrieval/A1/data/curse.txt\n",
            "/content/drive/MyDrive/Information Retrieval/A1/data/cybrtrsh.txt\n",
            "/content/drive/MyDrive/Information Retrieval/A1/data/dead2.txt\n",
            "/content/drive/MyDrive/Information Retrieval/A1/data/dead3.txt\n",
            "/content/drive/MyDrive/Information Retrieval/A1/data/dead4.txt\n",
            "/content/drive/MyDrive/Information Retrieval/A1/data/dead5.txt\n",
            "/content/drive/MyDrive/Information Retrieval/A1/data/dirtword.txt\n",
            "/content/drive/MyDrive/Information Retrieval/A1/data/donut.txt\n",
            "/content/drive/MyDrive/Information Retrieval/A1/data/drinks.gui\n",
            "/content/drive/MyDrive/Information Retrieval/A1/data/dym\n",
            "/content/drive/MyDrive/Information Retrieval/A1/data/eskimo.nel\n",
            "/content/drive/MyDrive/Information Retrieval/A1/data/exam.50\n",
            "/content/drive/MyDrive/Information Retrieval/A1/data/fascist.txt\n",
            "/content/drive/MyDrive/Information Retrieval/A1/data/flowchrt\n",
            "/content/drive/MyDrive/Information Retrieval/A1/data/flowchrt.txt\n",
            "/content/drive/MyDrive/Information Retrieval/A1/data/fuck!.txt\n",
            "/content/drive/MyDrive/Information Retrieval/A1/data/fuckyou2.txt\n",
            "/content/drive/MyDrive/Information Retrieval/A1/data/girlspeak.txt\n",
            "/content/drive/MyDrive/Information Retrieval/A1/data/golnar.txt\n",
            "/content/drive/MyDrive/Information Retrieval/A1/data/horflick.txt\n",
            "/content/drive/MyDrive/Information Retrieval/A1/data/htswfren.txt\n",
            "/content/drive/MyDrive/Information Retrieval/A1/data/humor9.txt\n",
            "/content/drive/MyDrive/Information Retrieval/A1/data/insanity.hum\n",
            "/content/drive/MyDrive/Information Retrieval/A1/data/insult.lst\n",
            "/content/drive/MyDrive/Information Retrieval/A1/data/insults1.txt\n",
            "/content/drive/MyDrive/Information Retrieval/A1/data/jason.fun\n",
            "/content/drive/MyDrive/Information Retrieval/A1/data/jokes.txt\n",
            "/content/drive/MyDrive/Information Retrieval/A1/data/killself.hum\n",
            "/content/drive/MyDrive/Information Retrieval/A1/data/kloo.txt\n",
            "/content/drive/MyDrive/Information Retrieval/A1/data/lawsuniv.hum\n",
            "/content/drive/MyDrive/Information Retrieval/A1/data/limerick.jok\n",
            "/content/drive/MyDrive/Information Retrieval/A1/data/lines.jok\n",
            "/content/drive/MyDrive/Information Retrieval/A1/data/livnware.hum\n",
            "/content/drive/MyDrive/Information Retrieval/A1/data/looser.hum\n",
            "/content/drive/MyDrive/Information Retrieval/A1/data/losers84.hum\n",
            "/content/drive/MyDrive/Information Retrieval/A1/data/losers86.hum\n",
            "/content/drive/MyDrive/Information Retrieval/A1/data/lotsa.jok\n",
            "/content/drive/MyDrive/Information Retrieval/A1/data/lozers\n",
            "/content/drive/MyDrive/Information Retrieval/A1/data/lozeuser.hum\n",
            "/content/drive/MyDrive/Information Retrieval/A1/data/luggage.hum\n",
            "/content/drive/MyDrive/Information Retrieval/A1/data/luvstory.txt\n",
            "/content/drive/MyDrive/Information Retrieval/A1/data/mailfrag.hum\n",
            "/content/drive/MyDrive/Information Retrieval/A1/data/making_y.wel\n",
            "/content/drive/MyDrive/Information Retrieval/A1/data/manners.txt\n",
            "/content/drive/MyDrive/Information Retrieval/A1/data/meinkamp.hum\n",
            "/content/drive/MyDrive/Information Retrieval/A1/data/miami.hum\n",
            "/content/drive/MyDrive/Information Retrieval/A1/data/mindvox\n",
            "/content/drive/MyDrive/Information Retrieval/A1/data/miranda.hum\n",
            "/content/drive/MyDrive/Information Retrieval/A1/data/mog-history\n",
            "/content/drive/MyDrive/Information Retrieval/A1/data/montpyth.hum\n",
            "/content/drive/MyDrive/Information Retrieval/A1/data/msorrow\n",
            "/content/drive/MyDrive/Information Retrieval/A1/data/namaste.txt\n",
            "/content/drive/MyDrive/Information Retrieval/A1/data/nigel.2\n",
            "/content/drive/MyDrive/Information Retrieval/A1/data/nihgel_8.9\n",
            "/content/drive/MyDrive/Information Retrieval/A1/data/paddingurpapers.txt\n",
            "/content/drive/MyDrive/Information Retrieval/A1/data/pepsideg.txt\n",
            "/content/drive/MyDrive/Information Retrieval/A1/data/phorse.hum\n",
            "/content/drive/MyDrive/Information Retrieval/A1/data/phunatdi.ana\n",
            "/content/drive/MyDrive/Information Retrieval/A1/data/phxbbs-m.txt\n",
            "/content/drive/MyDrive/Information Retrieval/A1/data/problem.txt\n",
            "/content/drive/MyDrive/Information Retrieval/A1/data/quack26.txt\n",
            "/content/drive/MyDrive/Information Retrieval/A1/data/radexposed.txt\n",
            "/content/drive/MyDrive/Information Retrieval/A1/data/reasons.txt\n",
            "/content/drive/MyDrive/Information Retrieval/A1/data/religion.txt\n",
            "/content/drive/MyDrive/Information Retrieval/A1/data/revolt.dj\n",
            "/content/drive/MyDrive/Information Retrieval/A1/data/sf-zine.pub\n",
            "/content/drive/MyDrive/Information Retrieval/A1/data/shorties.jok\n",
            "/content/drive/MyDrive/Information Retrieval/A1/data/sinksub.txt\n",
            "/content/drive/MyDrive/Information Retrieval/A1/data/smackjok.hum\n",
            "/content/drive/MyDrive/Information Retrieval/A1/data/swearfrn.hum\n",
            "/content/drive/MyDrive/Information Retrieval/A1/data/talebeat.hum\n",
            "/content/drive/MyDrive/Information Retrieval/A1/data/talkbizr.txt\n",
            "/content/drive/MyDrive/Information Retrieval/A1/data/televisi.hum\n",
            "/content/drive/MyDrive/Information Retrieval/A1/data/televisi.txt\n",
            "/content/drive/MyDrive/Information Retrieval/A1/data/terbear.txt\n",
            "/content/drive/MyDrive/Information Retrieval/A1/data/texican.dic\n",
            "/content/drive/MyDrive/Information Retrieval/A1/data/texican.lex\n",
            "/content/drive/MyDrive/Information Retrieval/A1/data/tickmoon.hum\n",
            "/content/drive/MyDrive/Information Retrieval/A1/data/ukunderg.txt\n",
            "/content/drive/MyDrive/Information Retrieval/A1/data/variety1.asc\n",
            "/content/drive/MyDrive/Information Retrieval/A1/data/wacky.ani\n",
            "/content/drive/MyDrive/Information Retrieval/A1/data/word.hum\n",
            "/content/drive/MyDrive/Information Retrieval/A1/data/xibovac.txt\n"
          ]
        }
      ]
    },
    {
      "cell_type": "code",
      "source": [
        "'you' in stps"
      ],
      "metadata": {
        "id": "NKORlP_ioATt",
        "colab": {
          "base_uri": "https://localhost:8080/"
        },
        "outputId": "bbb4b067-b10e-4a2d-ec2f-060f04e03a16"
      },
      "execution_count": 10,
      "outputs": [
        {
          "output_type": "execute_result",
          "data": {
            "text/plain": [
              "True"
            ]
          },
          "metadata": {},
          "execution_count": 10
        }
      ]
    },
    {
      "cell_type": "code",
      "source": [
        ""
      ],
      "metadata": {
        "id": "KCLUwmhano1j"
      },
      "execution_count": null,
      "outputs": []
    }
  ]
}