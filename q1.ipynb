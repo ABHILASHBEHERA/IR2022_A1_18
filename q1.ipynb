{
  "nbformat": 4,
  "nbformat_minor": 0,
  "metadata": {
    "colab": {
      "name": "q1.ipynb",
      "provenance": [],
      "collapsed_sections": []
    },
    "kernelspec": {
      "name": "python3",
      "display_name": "Python 3"
    },
    "language_info": {
      "name": "python"
    }
  },
  "cells": [
    {
      "cell_type": "code",
      "source": [
        "### Importing Libraries\n",
        "\n",
        "import glob\n",
        "import re\n",
        "import os\n",
        "import nltk\n",
        "from nltk.corpus import stopwords\n",
        "from nltk.stem import WordNetLemmatizer \n",
        "nltk.download('stopwords')\n",
        "nltk.download('punkt')\n",
        "nltk.download('wordnet')"
      ],
      "metadata": {
        "colab": {
          "base_uri": "https://localhost:8080/"
        },
        "id": "-AjxPj0QydqK",
        "outputId": "5721fe55-cf8d-4414-cc9d-2a79768367b4"
      },
      "execution_count": null,
      "outputs": [
        {
          "output_type": "stream",
          "name": "stdout",
          "text": [
            "[nltk_data] Downloading package stopwords to /root/nltk_data...\n",
            "[nltk_data]   Package stopwords is already up-to-date!\n",
            "[nltk_data] Downloading package punkt to /root/nltk_data...\n",
            "[nltk_data]   Package punkt is already up-to-date!\n",
            "[nltk_data] Downloading package wordnet to /root/nltk_data...\n",
            "[nltk_data]   Package wordnet is already up-to-date!\n"
          ]
        },
        {
          "output_type": "execute_result",
          "data": {
            "text/plain": [
              "True"
            ]
          },
          "metadata": {},
          "execution_count": 1
        }
      ]
    },
    {
      "cell_type": "code",
      "execution_count": null,
      "metadata": {
        "colab": {
          "base_uri": "https://localhost:8080/"
        },
        "id": "Ddy4PmnSn9tD",
        "outputId": "a954de3d-9fca-4aae-d80a-2420f3d3ad6b"
      },
      "outputs": [
        {
          "output_type": "stream",
          "name": "stdout",
          "text": [
            "Mounted at /content/drive\n"
          ]
        }
      ],
      "source": [
        "#mounting google drive\n",
        "from google.colab import drive\n",
        "drive.mount('/content/drive')"
      ]
    },
    {
      "cell_type": "code",
      "source": [
        "#folder location for all the files\n",
        "file_loc = '/content/drive/MyDrive/Information Retrieval/A1/data/*' "
      ],
      "metadata": {
        "id": "_RDwBUKLyiUU"
      },
      "execution_count": null,
      "outputs": []
    },
    {
      "cell_type": "code",
      "source": [
        "# all the stopwords from nltk corpus\n",
        "stps = stopwords.words('english')"
      ],
      "metadata": {
        "id": "F4vII8YQ6vK7"
      },
      "execution_count": null,
      "outputs": []
    },
    {
      "cell_type": "code",
      "source": [
        "# building a file list \n",
        "file_list = []\n",
        "for file in glob.glob(file_loc):\n",
        "  file_list.append(file)\n",
        "print(len(file_list))"
      ],
      "metadata": {
        "colab": {
          "base_uri": "https://localhost:8080/"
        },
        "id": "OunXWZfC8w1Y",
        "outputId": "63eaa1ed-473c-441e-d13d-da7796c9402c"
      },
      "execution_count": null,
      "outputs": [
        {
          "output_type": "stream",
          "name": "stdout",
          "text": [
            "1133\n"
          ]
        }
      ]
    },
    {
      "cell_type": "code",
      "source": [
        "file_list[56]"
      ],
      "metadata": {
        "colab": {
          "base_uri": "https://localhost:8080/",
          "height": 36
        },
        "id": "g2Mad-8T8-YJ",
        "outputId": "5c459ed7-ca12-432b-afd4-01cd2c8747f8"
      },
      "execution_count": null,
      "outputs": [
        {
          "output_type": "execute_result",
          "data": {
            "application/vnd.google.colaboratory.intrinsic+json": {
              "type": "string"
            },
            "text/plain": [
              "'/content/drive/MyDrive/Information Retrieval/A1/data/lifeimag.hum'"
            ]
          },
          "metadata": {},
          "execution_count": 6
        }
      ]
    },
    {
      "cell_type": "code",
      "source": [
        "#Prepprocessing a given string\n",
        "def preprocess(text):\n",
        "  lemmatizer = WordNetLemmatizer() \n",
        "  # converting into lower case\n",
        "  text = text.lower()\n",
        "  #removing hyperlinks\n",
        "  text = re.sub(r\"http\\S+\", \" \", text)\n",
        "  #removing punctuations\n",
        "  text = re.sub(r'[^\\w\\s]', ' ', text)\n",
        "  #tokenizing\n",
        "  text_tokens = nltk.word_tokenize(text)\n",
        "  new_tokens = []\n",
        "  #lemmatizing\n",
        "  text_tokens = [lemmatizer.lemmatize(word) for word in text_tokens]\n",
        "  #removing stopwords\n",
        "  for token in text_tokens:\n",
        "        if token not in stps:\n",
        "            new_tokens.append(token)\n",
        "\n",
        "  return new_tokens\n"
      ],
      "metadata": {
        "id": "fBQqahlO1YXo"
      },
      "execution_count": null,
      "outputs": []
    },
    {
      "cell_type": "code",
      "source": [
        "#Building inverted index\n",
        "file_cont = [] \n",
        "\n",
        "inverted_index = {}   # a dictionary that represents the inverted index\n",
        "i = 0\n",
        "for file_r in file_list:\n",
        "  #opening file in reading mode\n",
        "  file_o = open(file_r , \"r\", encoding='latin-1')\n",
        "  # extracting contents of the file into text\n",
        "  text = file_o.read()\n",
        "  #adding words to the inverted index after preprocessing\n",
        "  for word in set(preprocess(text)):\n",
        "    if word in inverted_index:\n",
        "      inverted_index[word].append(i)\n",
        "    else:\n",
        "        inverted_index[word] = [i]\n",
        "  i+=1\n"
      ],
      "metadata": {
        "id": "WIY3uuS-qV2l"
      },
      "execution_count": null,
      "outputs": []
    },
    {
      "cell_type": "code",
      "source": [
        ""
      ],
      "metadata": {
        "id": "4BDgr0zK5tET"
      },
      "execution_count": null,
      "outputs": []
    },
    {
      "cell_type": "code",
      "source": [
        "len(inverted_index.keys())"
      ],
      "metadata": {
        "colab": {
          "base_uri": "https://localhost:8080/"
        },
        "id": "ysyPH6k3KLPy",
        "outputId": "8d67b80e-49a9-4875-ccf7-140c3bc4142c"
      },
      "execution_count": null,
      "outputs": [
        {
          "output_type": "execute_result",
          "data": {
            "text/plain": [
              "65099"
            ]
          },
          "metadata": {},
          "execution_count": 9
        }
      ]
    },
    {
      "cell_type": "code",
      "source": [
        "# OR Operation\n",
        "def orOp(list1, list2):\n",
        "  len1 = len(list1)\n",
        "  len2 = len(list2)\n",
        "\n",
        "  res = []\n",
        "  n_comp = 0\n",
        "# Base Cases and comparisons\n",
        "  if len1 == 0 and len2 == 0:\n",
        "    n_comp += 2\n",
        "    return (res,n_comp)\n",
        "  n_comp += 2\n",
        "  if len1 == 0 and len2 != 0:\n",
        "    n_comp += 2\n",
        "    return (list2,n_comp)\n",
        "  n_comp += 2\n",
        "  if len1 != 0 and len2 == 0:\n",
        "    n_comp += 2\n",
        "    return (list1,n_comp)\n",
        "  n_comp += 2\n",
        "  # adding a +inf element\n",
        "  list1.append(1200)\n",
        "  list2.append(1200)\n",
        "\n",
        "  i = 0\n",
        "  j = 0\n",
        "  #O(n) time union operation for sorted lists\n",
        "  while(i <= len1 and j <= len2):\n",
        "\n",
        "    if(list1[i] == list2[j]):\n",
        "      res.append(list1[i])\n",
        "      i += 1\n",
        "      j += 1\n",
        "      n_comp += 1\n",
        "    \n",
        "    elif list1[i] < list2[j]:\n",
        "      res.append(list1[i])\n",
        "      i += 1\n",
        "      n_comp += 2\n",
        "\n",
        "    else:\n",
        "      res.append(list2[j])\n",
        "      j += 1\n",
        "      n_comp += 2\n",
        "  \n",
        "  res = [i for i in res if i != 1200]\n",
        " \n",
        "  return (res,n_comp)\n",
        "  \n",
        "\n"
      ],
      "metadata": {
        "id": "wm2Ymq-0LM3H"
      },
      "execution_count": null,
      "outputs": []
    },
    {
      "cell_type": "code",
      "source": [
        "# AND Operation\n",
        "def andOp(list1, list2):\n",
        "  len1 = len(list1)\n",
        "  len2 = len(list2)\n",
        "\n",
        "  res = []\n",
        "  n_comp = 0\n",
        "#Base Cases\n",
        "  if len1 == 0 and len2 == 0:\n",
        "    n_comp += 2\n",
        "    return (res,n_comp)\n",
        "  n_comp += 2\n",
        "  if len1 == 0 and len2 != 0:\n",
        "    n_comp += 2\n",
        "    return (res,n_comp)\n",
        "  n_comp += 2\n",
        "  if len1 != 0 and len2 == 0:\n",
        "    n_comp += 2\n",
        "    return (res,n_comp)\n",
        "  n_comp += 2\n",
        "# adding a +inf element  \n",
        "  list1.append(1200)\n",
        "  list2.append(1200)\n",
        "\n",
        "  i = 0\n",
        "  j = 0\n",
        "#O(n) time intersection operation for sorted lists\n",
        "  while(i <= len1 and j <= len2):\n",
        "\n",
        "    if(list1[i] == list2[j]):\n",
        "      res.append(list1[i])\n",
        "      i += 1\n",
        "      j += 1\n",
        "      n_comp += 1\n",
        "    \n",
        "    elif list1[i] < list2[j]:\n",
        "      i += 1\n",
        "      n_comp += 2\n",
        "\n",
        "    else:\n",
        "      j += 1\n",
        "      n_comp += 2\n",
        "  \n",
        "  res = [i for i in res if i != 1200]\n",
        "  print(res)\n",
        "  return (res,n_comp)\n",
        "  \n",
        "\n"
      ],
      "metadata": {
        "id": "__zLv9L7mU_V"
      },
      "execution_count": null,
      "outputs": []
    },
    {
      "cell_type": "code",
      "source": [
        "# Not Operation\n",
        "def notOp(list1):\n",
        "  res = []\n",
        "  for i in range(len(file_list)):\n",
        "    if i not in list1:\n",
        "      res.append(i)\n",
        "  return res"
      ],
      "metadata": {
        "id": "riPuOZAmnTOd"
      },
      "execution_count": null,
      "outputs": []
    },
    {
      "cell_type": "code",
      "source": [
        "#OR Not Operation\n",
        "def orNotOp(list1, list2):\n",
        "  notL2 = notOp(list2)\n",
        "  L1orNotL2, orNotComp = orOp(list1,notL2)\n",
        "  \n",
        "  return (L1orNotL2,orNotComp)"
      ],
      "metadata": {
        "id": "nYlTSROXpDvn"
      },
      "execution_count": null,
      "outputs": []
    },
    {
      "cell_type": "code",
      "source": [
        "#AND NOT Operation\n",
        "def andNotOp(a,b):\n",
        "  # b = notOp(b)\n",
        "  # list_3,y = andOp(a,b)\n",
        "  list_1=a\n",
        "  list_2=b\n",
        "  list_3=[]\n",
        "  ptr_1=0\n",
        "  ptr_2=0\n",
        "  comp = 0\n",
        "  \n",
        "  while(ptr_1<len(list_1) and ptr_2<len(list_2)):\n",
        "    if(list_1[ptr_1]<list_2[ptr_2]):\n",
        "      list_3.append(list_1[ptr_1])\n",
        "      ptr_1+=1\n",
        "      comp += 1\n",
        "    elif(list_1[ptr_1]==list_2[ptr_2]):\n",
        "      ptr_1+=1\n",
        "      ptr_2+=1\n",
        "      comp += 2\n",
        "    else:\n",
        "      ptr_2+=1\n",
        "      comp += 2\n",
        "  while(ptr_1<len(list_1)):\n",
        "    list_3.append(list_1[ptr_1])\n",
        "    ptr_1+=1\n",
        "    \n",
        "\n",
        "  return (list_3,comp)"
      ],
      "metadata": {
        "id": "XfeYaRSfxES7"
      },
      "execution_count": null,
      "outputs": []
    },
    {
      "cell_type": "code",
      "source": [
        "#Querry Running \n",
        "def runQuerry(qry,opArr):\n",
        "\n",
        "  qryArr = preprocess(qry)\n",
        "  i = 0\n",
        " \n",
        "  if len(qryArr) != len(opArr)+1:\n",
        "    return \"can't process\"\n",
        "  res = inverted_index[qryArr[0]]\n",
        "  t_comp = 0\n",
        "  for i in range(len(opArr)):\n",
        "    doc_list = inverted_index[qryArr[i+1]]\n",
        "    if opArr[i] == \"OR\":\n",
        "      res,comp = orOp(res,doc_list)\n",
        "    elif opArr[i] == \"AND\":\n",
        "      res,comp = andOp(res,doc_list)\n",
        "    elif opArr[i] == \"AND NOT\":\n",
        "      res,comp = andNotOp(res,doc_list)\n",
        "    elif opArr[i] == \"OR NOT\":\n",
        "      res,comp = orNotOp(res,doc_list)\n",
        "    else:\n",
        "      print(\"Wrong Operation!!!!\")\n",
        "      break\n",
        "    t_comp += comp\n",
        "  # displaying results\n",
        "  print(\"Number of documents matched: \", len(res))\n",
        "  print(\"The number of comparisons are \",t_comp)\n",
        "  print(\"The documents matched are : \")\n",
        "  print(res)\n",
        "  for i in res:\n",
        "    print(file_list[i]) \n",
        "\n",
        "  \n"
      ],
      "metadata": {
        "id": "aOeMR1M554ul"
      },
      "execution_count": null,
      "outputs": []
    },
    {
      "cell_type": "code",
      "source": [
        "qry = \"\"\n",
        "op = [\"OR NOT\",\"AND NOT\"]\n",
        "runQuerry(qry,op)"
      ],
      "metadata": {
        "id": "UYjXhkVJo1mF",
        "colab": {
          "base_uri": "https://localhost:8080/",
          "height": 36
        },
        "outputId": "614e6567-1838-41b9-d00a-db9389aa2ce3"
      },
      "execution_count": null,
      "outputs": [
        {
          "output_type": "execute_result",
          "data": {
            "application/vnd.google.colaboratory.intrinsic+json": {
              "type": "string"
            },
            "text/plain": [
              "\"can't process\""
            ]
          },
          "metadata": {},
          "execution_count": 16
        }
      ]
    },
    {
      "cell_type": "markdown",
      "source": [
        ""
      ],
      "metadata": {
        "id": "9Ax82SJFSBZv"
      }
    }
  ]
}